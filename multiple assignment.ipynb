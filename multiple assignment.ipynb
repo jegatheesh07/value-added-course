{
 "cells": [
  {
   "cell_type": "code",
   "execution_count": 1,
   "id": "bc32f8a0",
   "metadata": {},
   "outputs": [],
   "source": [
    "a,b,c,d=1,2,3,4"
   ]
  },
  {
   "cell_type": "code",
   "execution_count": 2,
   "id": "d8651b42",
   "metadata": {},
   "outputs": [
    {
     "data": {
      "text/plain": [
       "1"
      ]
     },
     "execution_count": 2,
     "metadata": {},
     "output_type": "execute_result"
    }
   ],
   "source": [
    "a"
   ]
  },
  {
   "cell_type": "code",
   "execution_count": 3,
   "id": "761c4829",
   "metadata": {},
   "outputs": [
    {
     "data": {
      "text/plain": [
       "2"
      ]
     },
     "execution_count": 3,
     "metadata": {},
     "output_type": "execute_result"
    }
   ],
   "source": [
    "b"
   ]
  },
  {
   "cell_type": "code",
   "execution_count": 4,
   "id": "fc14d1ee",
   "metadata": {},
   "outputs": [
    {
     "data": {
      "text/plain": [
       "3"
      ]
     },
     "execution_count": 4,
     "metadata": {},
     "output_type": "execute_result"
    }
   ],
   "source": [
    "c"
   ]
  },
  {
   "cell_type": "code",
   "execution_count": 5,
   "id": "125fcf71",
   "metadata": {},
   "outputs": [
    {
     "data": {
      "text/plain": [
       "4"
      ]
     },
     "execution_count": 5,
     "metadata": {},
     "output_type": "execute_result"
    }
   ],
   "source": [
    "d"
   ]
  },
  {
   "cell_type": "code",
   "execution_count": 6,
   "id": "818f54ab",
   "metadata": {},
   "outputs": [],
   "source": [
    "e=f=g=h=16"
   ]
  },
  {
   "cell_type": "code",
   "execution_count": 7,
   "id": "714eebe6",
   "metadata": {},
   "outputs": [
    {
     "data": {
      "text/plain": [
       "16"
      ]
     },
     "execution_count": 7,
     "metadata": {},
     "output_type": "execute_result"
    }
   ],
   "source": [
    "e"
   ]
  },
  {
   "cell_type": "code",
   "execution_count": 8,
   "id": "32c04427",
   "metadata": {},
   "outputs": [
    {
     "data": {
      "text/plain": [
       "16"
      ]
     },
     "execution_count": 8,
     "metadata": {},
     "output_type": "execute_result"
    }
   ],
   "source": [
    "f"
   ]
  },
  {
   "cell_type": "code",
   "execution_count": 9,
   "id": "0f9987af",
   "metadata": {},
   "outputs": [
    {
     "data": {
      "text/plain": [
       "16"
      ]
     },
     "execution_count": 9,
     "metadata": {},
     "output_type": "execute_result"
    }
   ],
   "source": [
    "g"
   ]
  },
  {
   "cell_type": "code",
   "execution_count": 10,
   "id": "b50b6924",
   "metadata": {},
   "outputs": [
    {
     "data": {
      "text/plain": [
       "16"
      ]
     },
     "execution_count": 10,
     "metadata": {},
     "output_type": "execute_result"
    }
   ],
   "source": [
    "h"
   ]
  },
  {
   "cell_type": "code",
   "execution_count": 11,
   "id": "bb279693",
   "metadata": {},
   "outputs": [
    {
     "data": {
      "text/plain": [
       "4"
      ]
     },
     "execution_count": 11,
     "metadata": {},
     "output_type": "execute_result"
    }
   ],
   "source": [
    "d%h"
   ]
  },
  {
   "cell_type": "code",
   "execution_count": 12,
   "id": "1735fdb5",
   "metadata": {},
   "outputs": [
    {
     "data": {
      "text/plain": [
       "0"
      ]
     },
     "execution_count": 12,
     "metadata": {},
     "output_type": "execute_result"
    }
   ],
   "source": [
    "h%d"
   ]
  },
  {
   "cell_type": "code",
   "execution_count": 13,
   "id": "70c5b6a8",
   "metadata": {},
   "outputs": [
    {
     "data": {
      "text/plain": [
       "4.0"
      ]
     },
     "execution_count": 13,
     "metadata": {},
     "output_type": "execute_result"
    }
   ],
   "source": [
    "h/d"
   ]
  },
  {
   "cell_type": "code",
   "execution_count": 14,
   "id": "75070617",
   "metadata": {},
   "outputs": [],
   "source": [
    "jegatheesh=vasanth=sharif='soker'"
   ]
  },
  {
   "cell_type": "code",
   "execution_count": 16,
   "id": "eb209383",
   "metadata": {},
   "outputs": [
    {
     "data": {
      "text/plain": [
       "'soker'"
      ]
     },
     "execution_count": 16,
     "metadata": {},
     "output_type": "execute_result"
    }
   ],
   "source": [
    "vasanth"
   ]
  },
  {
   "cell_type": "code",
   "execution_count": 22,
   "id": "7f1067d4",
   "metadata": {},
   "outputs": [
    {
     "data": {
      "text/plain": [
       "'soker'"
      ]
     },
     "execution_count": 22,
     "metadata": {},
     "output_type": "execute_result"
    }
   ],
   "source": [
    "jegatheesh"
   ]
  },
  {
   "cell_type": "code",
   "execution_count": 23,
   "id": "f94c25b3",
   "metadata": {},
   "outputs": [
    {
     "data": {
      "text/plain": [
       "'soker'"
      ]
     },
     "execution_count": 23,
     "metadata": {},
     "output_type": "execute_result"
    }
   ],
   "source": [
    "sharif"
   ]
  },
  {
   "cell_type": "code",
   "execution_count": 19,
   "id": "409dd009",
   "metadata": {},
   "outputs": [
    {
     "name": "stdout",
     "output_type": "stream",
     "text": [
      "soker\n"
     ]
    }
   ],
   "source": [
    "print(jegatheesh)"
   ]
  },
  {
   "cell_type": "code",
   "execution_count": 20,
   "id": "1b5ffaab",
   "metadata": {},
   "outputs": [
    {
     "data": {
      "text/plain": [
       "64"
      ]
     },
     "execution_count": 20,
     "metadata": {},
     "output_type": "execute_result"
    }
   ],
   "source": [
    "h*d"
   ]
  },
  {
   "cell_type": "code",
   "execution_count": 24,
   "id": "089a8947",
   "metadata": {},
   "outputs": [
    {
     "data": {
      "text/plain": [
       "int"
      ]
     },
     "execution_count": 24,
     "metadata": {},
     "output_type": "execute_result"
    }
   ],
   "source": [
    "type(4)"
   ]
  },
  {
   "cell_type": "code",
   "execution_count": 28,
   "id": "ce711710",
   "metadata": {},
   "outputs": [
    {
     "data": {
      "text/plain": [
       "str"
      ]
     },
     "execution_count": 28,
     "metadata": {},
     "output_type": "execute_result"
    }
   ],
   "source": [
    "type(\"soker\")"
   ]
  },
  {
   "cell_type": "code",
   "execution_count": 30,
   "id": "b49e04c6",
   "metadata": {},
   "outputs": [],
   "source": [
    "name,reg_no=\"jegatheesh\",121012169253\n"
   ]
  },
  {
   "cell_type": "code",
   "execution_count": 31,
   "id": "07b5335b",
   "metadata": {},
   "outputs": [
    {
     "data": {
      "text/plain": [
       "str"
      ]
     },
     "execution_count": 31,
     "metadata": {},
     "output_type": "execute_result"
    }
   ],
   "source": [
    "type(name)"
   ]
  },
  {
   "cell_type": "code",
   "execution_count": 33,
   "id": "f430316c",
   "metadata": {},
   "outputs": [
    {
     "data": {
      "text/plain": [
       "int"
      ]
     },
     "execution_count": 33,
     "metadata": {},
     "output_type": "execute_result"
    }
   ],
   "source": [
    "type(reg_no)"
   ]
  },
  {
   "cell_type": "code",
   "execution_count": 35,
   "id": "eb6cfd0a",
   "metadata": {},
   "outputs": [
    {
     "data": {
      "text/plain": [
       "float"
      ]
     },
     "execution_count": 35,
     "metadata": {},
     "output_type": "execute_result"
    }
   ],
   "source": [
    "type(7.4)"
   ]
  },
  {
   "cell_type": "code",
   "execution_count": 39,
   "id": "d2f617d9",
   "metadata": {},
   "outputs": [
    {
     "name": "stdout",
     "output_type": "stream",
     "text": [
      "8 12\n"
     ]
    }
   ],
   "source": [
    "x=4\n",
    "y=x+2\n",
    "y=2*y\n",
    "x=y-x\n",
    "print(x,y)\n"
   ]
  },
  {
   "cell_type": "code",
   "execution_count": 40,
   "id": "5165a7b6",
   "metadata": {},
   "outputs": [
    {
     "name": "stdout",
     "output_type": "stream",
     "text": [
      "nee oru sokeru\n"
     ]
    }
   ],
   "source": [
    "print(\"nee oru sokeru\")"
   ]
  },
  {
   "cell_type": "code",
   "execution_count": 42,
   "id": "48921d64",
   "metadata": {},
   "outputs": [
    {
     "name": "stdout",
     "output_type": "stream",
     "text": [
      "5625 75\n"
     ]
    }
   ],
   "source": [
    "x=5\n",
    "y=x*x\n",
    "y=y*3\n",
    "x=y*y\n",
    "print(x,y)"
   ]
  },
  {
   "cell_type": "code",
   "execution_count": null,
   "id": "23531e18",
   "metadata": {},
   "outputs": [],
   "source": []
  }
 ],
 "metadata": {
  "kernelspec": {
   "display_name": "Python 3 (ipykernel)",
   "language": "python",
   "name": "python3"
  },
  "language_info": {
   "codemirror_mode": {
    "name": "ipython",
    "version": 3
   },
   "file_extension": ".py",
   "mimetype": "text/x-python",
   "name": "python",
   "nbconvert_exporter": "python",
   "pygments_lexer": "ipython3",
   "version": "3.9.13"
  }
 },
 "nbformat": 4,
 "nbformat_minor": 5
}
