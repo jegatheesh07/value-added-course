{
 "cells": [
  {
   "cell_type": "code",
   "execution_count": 22,
   "id": "b33a12de",
   "metadata": {},
   "outputs": [
    {
     "name": "stdout",
     "output_type": "stream",
     "text": [
      "Enter value of a7\n",
      "enter value of b9\n",
      "16\n"
     ]
    }
   ],
   "source": [
    "def jegatheesh(a,b):\n",
    "    print (a+b)\n",
    "a=int(input(\"Enter value of a\"))\n",
    "b=int(input(\"enter value of b\"))\n",
    "jegatheesh(a,b)\n"
   ]
  },
  {
   "cell_type": "code",
   "execution_count": 18,
   "id": "f9ed9a0e",
   "metadata": {},
   "outputs": [
    {
     "name": "stdout",
     "output_type": "stream",
     "text": [
      "13\n"
     ]
    }
   ],
   "source": [
    "jegatheesh(a,b)"
   ]
  },
  {
   "cell_type": "code",
   "execution_count": 8,
   "id": "defcdf81",
   "metadata": {},
   "outputs": [
    {
     "name": "stdout",
     "output_type": "stream",
     "text": [
      "Enter your namejegatheesh\n",
      "Hello, my name is jegatheesh\n"
     ]
    }
   ],
   "source": [
    "def intro(name):\n",
    "    print(f\"Hello, my name is {name}\")\n",
    "          \n",
    "stud_name=input(\"Enter your name\")\n",
    "intro(stud_name)"
   ]
  },
  {
   "cell_type": "code",
   "execution_count": 13,
   "id": "b6f73fde",
   "metadata": {},
   "outputs": [
    {
     "name": "stdout",
     "output_type": "stream",
     "text": [
      "Enter joker namevasanth\n",
      "I am vasanth\n"
     ]
    }
   ],
   "source": [
    "def jega(a):\n",
    "    print(f\"I am {a}\")\n",
    "soker=input(\"Enter joker name\")\n",
    "jega(soker)\n"
   ]
  },
  {
   "cell_type": "code",
   "execution_count": 15,
   "id": "5fdee086",
   "metadata": {},
   "outputs": [
    {
     "name": "stdout",
     "output_type": "stream",
     "text": [
      "enter value of a5\n",
      "enter value of b6\n",
      "the sum of two num is  11\n"
     ]
    }
   ],
   "source": [
    "def maths():\n",
    "    print(f\"the sum of two num is \",a+b)\n",
    "a=int(input(\"enter value of a\"))\n",
    "b=int(input(\"enter value of b\"))\n",
    "maths()"
   ]
  },
  {
   "cell_type": "code",
   "execution_count": 26,
   "id": "3bda1cc7",
   "metadata": {},
   "outputs": [
    {
     "name": "stdout",
     "output_type": "stream",
     "text": [
      "4,8, cost 6\n"
     ]
    }
   ],
   "source": [
    "def a(i,q,a):\n",
    "    print(f\"{i},{q}, cost {a}\")\n",
    "a(i=4,q=8,a=6)"
   ]
  },
  {
   "cell_type": "code",
   "execution_count": 27,
   "id": "1b917e67",
   "metadata": {},
   "outputs": [
    {
     "name": "stdout",
     "output_type": "stream",
     "text": [
      "I am vasanth\n"
     ]
    }
   ],
   "source": [
    "jega(soker)"
   ]
  },
  {
   "cell_type": "code",
   "execution_count": 41,
   "id": "8109c344",
   "metadata": {},
   "outputs": [
    {
     "name": "stdout",
     "output_type": "stream",
     "text": [
      "enter fruit nameapple\n",
      "enter quantity 2\n",
      "enter an item price10\n",
      "2 apple is 20.00 \n"
     ]
    }
   ],
   "source": [
    "def b(item,quantity,cost):\n",
    "    print(f\"{quantity} {item} is {cost:.2f} \")\n",
    "item=input(\"enter fruit name\")\n",
    "quantity=int(input(\"enter quantity \"))\n",
    "cost=int(input(\"enter an item price\"))\n",
    "cost=cost*quantity\n",
    "b(item,quantity,cost)\n"
   ]
  },
  {
   "cell_type": "code",
   "execution_count": 40,
   "id": "7c05683b",
   "metadata": {},
   "outputs": [
    {
     "name": "stdout",
     "output_type": "stream",
     "text": [
      "jegatheesh\n"
     ]
    }
   ],
   "source": [
    "def mt(**kid):\n",
    "    print(kid[\"fna\"])\n",
    "mt(fna=\"jegatheesh\",lna=\"waran\")"
   ]
  },
  {
   "cell_type": "code",
   "execution_count": null,
   "id": "de6dab89",
   "metadata": {},
   "outputs": [],
   "source": []
  }
 ],
 "metadata": {
  "kernelspec": {
   "display_name": "Python 3 (ipykernel)",
   "language": "python",
   "name": "python3"
  },
  "language_info": {
   "codemirror_mode": {
    "name": "ipython",
    "version": 3
   },
   "file_extension": ".py",
   "mimetype": "text/x-python",
   "name": "python",
   "nbconvert_exporter": "python",
   "pygments_lexer": "ipython3",
   "version": "3.9.13"
  }
 },
 "nbformat": 4,
 "nbformat_minor": 5
}
