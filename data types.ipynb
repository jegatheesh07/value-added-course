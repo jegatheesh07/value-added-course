{
 "cells": [
  {
   "cell_type": "code",
   "execution_count": 8,
   "id": "2196c53a",
   "metadata": {},
   "outputs": [
    {
     "name": "stdout",
     "output_type": "stream",
     "text": [
      "<class 'int'>\n",
      "<class 'float'>\n",
      "<class 'complex'>\n"
     ]
    }
   ],
   "source": [
    "a=5\n",
    "b=12.5\n",
    "c=5+2j\n",
    "\n",
    "print(type(a))\n",
    "\n",
    "print(type(b))\n",
    "print(type(c))\n"
   ]
  },
  {
   "cell_type": "code",
   "execution_count": 9,
   "id": "e85380c6",
   "metadata": {},
   "outputs": [],
   "source": [
    "a=67"
   ]
  },
  {
   "cell_type": "markdown",
   "id": "ed2e5f6f",
   "metadata": {},
   "source": [
    "# Array"
   ]
  },
  {
   "cell_type": "code",
   "execution_count": 10,
   "id": "724ef103",
   "metadata": {},
   "outputs": [],
   "source": [
    "import array as ar"
   ]
  },
  {
   "cell_type": "code",
   "execution_count": 11,
   "id": "f55e98b0",
   "metadata": {},
   "outputs": [],
   "source": [
    "a=ar.array('i',[1,2,3,4,5])\n",
    "b=ar.array('d',[4.5,6.5,7.5,7.4,7.3])\n"
   ]
  },
  {
   "cell_type": "code",
   "execution_count": 12,
   "id": "9ca00254",
   "metadata": {},
   "outputs": [
    {
     "data": {
      "text/plain": [
       "array('d', [4.5, 6.5, 7.5, 7.4, 7.3])"
      ]
     },
     "execution_count": 12,
     "metadata": {},
     "output_type": "execute_result"
    }
   ],
   "source": [
    "b"
   ]
  },
  {
   "cell_type": "code",
   "execution_count": 13,
   "id": "fbf90aa8",
   "metadata": {},
   "outputs": [
    {
     "data": {
      "text/plain": [
       "array('i', [1, 2, 3, 4, 5])"
      ]
     },
     "execution_count": 13,
     "metadata": {},
     "output_type": "execute_result"
    }
   ],
   "source": [
    "a"
   ]
  },
  {
   "cell_type": "code",
   "execution_count": 14,
   "id": "6d74187d",
   "metadata": {},
   "outputs": [
    {
     "name": "stdout",
     "output_type": "stream",
     "text": [
      "4\n"
     ]
    }
   ],
   "source": [
    "print(a[3])"
   ]
  },
  {
   "cell_type": "code",
   "execution_count": 15,
   "id": "90ec1da7",
   "metadata": {},
   "outputs": [
    {
     "name": "stdout",
     "output_type": "stream",
     "text": [
      "array('i', [1, 2, 3, 4, 5])\n"
     ]
    }
   ],
   "source": [
    "print(a[:])"
   ]
  },
  {
   "cell_type": "code",
   "execution_count": 22,
   "id": "9a3b8fbc",
   "metadata": {},
   "outputs": [
    {
     "name": "stdout",
     "output_type": "stream",
     "text": [
      "the value of upto 2 in b is  array('d', [4.5, 6.5, 7.5])\n"
     ]
    }
   ],
   "source": [
    "print(\"the value of upto 2 in b is \",b[:-2])"
   ]
  },
  {
   "cell_type": "code",
   "execution_count": 23,
   "id": "c37f4a81",
   "metadata": {},
   "outputs": [],
   "source": [
    "a.append(6)#usi to just add one value"
   ]
  },
  {
   "cell_type": "code",
   "execution_count": 24,
   "id": "2822dd2d",
   "metadata": {},
   "outputs": [
    {
     "data": {
      "text/plain": [
       "array('i', [1, 2, 3, 4, 5, 6])"
      ]
     },
     "execution_count": 24,
     "metadata": {},
     "output_type": "execute_result"
    }
   ],
   "source": [
    "a"
   ]
  },
  {
   "cell_type": "code",
   "execution_count": 25,
   "id": "c61f92c3",
   "metadata": {},
   "outputs": [],
   "source": [
    "a.extend([7,8,9,10]) #use to add more than one value"
   ]
  },
  {
   "cell_type": "code",
   "execution_count": 27,
   "id": "cf4b4e92",
   "metadata": {},
   "outputs": [],
   "source": [
    "a.insert(4,89)#use to insert just "
   ]
  },
  {
   "cell_type": "code",
   "execution_count": 28,
   "id": "39e6fa6e",
   "metadata": {},
   "outputs": [
    {
     "data": {
      "text/plain": [
       "array('i', [1, 2, 3, 4, 89, 5, 6, 7, 8, 9, 10])"
      ]
     },
     "execution_count": 28,
     "metadata": {},
     "output_type": "execute_result"
    }
   ],
   "source": [
    "a"
   ]
  },
  {
   "cell_type": "code",
   "execution_count": 29,
   "id": "3b2e9cd4",
   "metadata": {},
   "outputs": [],
   "source": [
    "a.remove(10)"
   ]
  },
  {
   "cell_type": "code",
   "execution_count": 30,
   "id": "4f3c8429",
   "metadata": {},
   "outputs": [
    {
     "data": {
      "text/plain": [
       "array('i', [1, 2, 3, 4, 89, 5, 6, 7, 8, 9])"
      ]
     },
     "execution_count": 30,
     "metadata": {},
     "output_type": "execute_result"
    }
   ],
   "source": [
    "a"
   ]
  },
  {
   "cell_type": "code",
   "execution_count": 31,
   "id": "7ea48e20",
   "metadata": {},
   "outputs": [
    {
     "data": {
      "text/plain": [
       "89"
      ]
     },
     "execution_count": 31,
     "metadata": {},
     "output_type": "execute_result"
    }
   ],
   "source": [
    "a.pop(4)"
   ]
  },
  {
   "cell_type": "code",
   "execution_count": 32,
   "id": "8a931cb2",
   "metadata": {},
   "outputs": [
    {
     "data": {
      "text/plain": [
       "array('i', [1, 2, 3, 4, 5, 6, 7, 8, 9])"
      ]
     },
     "execution_count": 32,
     "metadata": {},
     "output_type": "execute_result"
    }
   ],
   "source": [
    "a"
   ]
  },
  {
   "cell_type": "code",
   "execution_count": 39,
   "id": "c1c389d5",
   "metadata": {},
   "outputs": [
    {
     "data": {
      "text/plain": [
       "array('i', [3, 4, 5, 6, 7])"
      ]
     },
     "execution_count": 39,
     "metadata": {},
     "output_type": "execute_result"
    }
   ],
   "source": [
    "a[2:7]"
   ]
  },
  {
   "cell_type": "code",
   "execution_count": 40,
   "id": "ab6da302",
   "metadata": {},
   "outputs": [
    {
     "data": {
      "text/plain": [
       "array('i', [5, 6, 7, 8, 9])"
      ]
     },
     "execution_count": 40,
     "metadata": {},
     "output_type": "execute_result"
    }
   ],
   "source": [
    "a[4:]"
   ]
  },
  {
   "cell_type": "code",
   "execution_count": 45,
   "id": "efebbdfb",
   "metadata": {},
   "outputs": [
    {
     "data": {
      "text/plain": [
       "array('i', [1, 2])"
      ]
     },
     "execution_count": 45,
     "metadata": {},
     "output_type": "execute_result"
    }
   ],
   "source": [
    "a[:2]"
   ]
  },
  {
   "cell_type": "code",
   "execution_count": 46,
   "id": "2266a17a",
   "metadata": {},
   "outputs": [
    {
     "data": {
      "text/plain": [
       "9"
      ]
     },
     "execution_count": 46,
     "metadata": {},
     "output_type": "execute_result"
    }
   ],
   "source": [
    "len(a)"
   ]
  },
  {
   "cell_type": "code",
   "execution_count": 47,
   "id": "ea0d5bca",
   "metadata": {},
   "outputs": [
    {
     "data": {
      "text/plain": [
       "array('i', [1, 2, 3, 4, 5, 6, 7, 8, 9])"
      ]
     },
     "execution_count": 47,
     "metadata": {},
     "output_type": "execute_result"
    }
   ],
   "source": [
    "a"
   ]
  },
  {
   "cell_type": "code",
   "execution_count": 48,
   "id": "1090227a",
   "metadata": {},
   "outputs": [],
   "source": [
    "a.reverse()       #reverse a function"
   ]
  },
  {
   "cell_type": "code",
   "execution_count": 49,
   "id": "a02e2e27",
   "metadata": {},
   "outputs": [
    {
     "data": {
      "text/plain": [
       "array('i', [9, 8, 7, 6, 5, 4, 3, 2, 1])"
      ]
     },
     "execution_count": 49,
     "metadata": {},
     "output_type": "execute_result"
    }
   ],
   "source": [
    "a"
   ]
  },
  {
   "cell_type": "markdown",
   "id": "2c0d49e9",
   "metadata": {},
   "source": [
    "# list"
   ]
  },
  {
   "cell_type": "code",
   "execution_count": 52,
   "id": "57a0e574",
   "metadata": {},
   "outputs": [],
   "source": [
    "sokers=[\"vasanth\",\"jegatheesh\",\"sharif\"]"
   ]
  },
  {
   "cell_type": "code",
   "execution_count": 53,
   "id": "59eb65b5",
   "metadata": {},
   "outputs": [
    {
     "data": {
      "text/plain": [
       "['vasanth', 'jegatheesh', 'sharif']"
      ]
     },
     "execution_count": 53,
     "metadata": {},
     "output_type": "execute_result"
    }
   ],
   "source": [
    "sokers"
   ]
  },
  {
   "cell_type": "code",
   "execution_count": 59,
   "id": "c37bdd68",
   "metadata": {},
   "outputs": [],
   "source": [
    "List=[\"suresh\",3.56,6j,113,\"prag\"]"
   ]
  },
  {
   "cell_type": "code",
   "execution_count": 55,
   "id": "98ca1b7a",
   "metadata": {},
   "outputs": [
    {
     "data": {
      "text/plain": [
       "list"
      ]
     },
     "execution_count": 55,
     "metadata": {},
     "output_type": "execute_result"
    }
   ],
   "source": [
    "type(sokers)"
   ]
  },
  {
   "cell_type": "code",
   "execution_count": 56,
   "id": "8f345b97",
   "metadata": {},
   "outputs": [
    {
     "data": {
      "text/plain": [
       "3"
      ]
     },
     "execution_count": 56,
     "metadata": {},
     "output_type": "execute_result"
    }
   ],
   "source": [
    "len(sokers)"
   ]
  },
  {
   "cell_type": "code",
   "execution_count": 57,
   "id": "a06cee1d",
   "metadata": {},
   "outputs": [
    {
     "data": {
      "text/plain": [
       "array('i', [8, 7, 6, 5, 4, 3, 2, 1])"
      ]
     },
     "execution_count": 57,
     "metadata": {},
     "output_type": "execute_result"
    }
   ],
   "source": [
    "a[1:]"
   ]
  },
  {
   "cell_type": "code",
   "execution_count": 58,
   "id": "c4f35401",
   "metadata": {},
   "outputs": [
    {
     "data": {
      "text/plain": [
       "['jegatheesh', 'sharif']"
      ]
     },
     "execution_count": 58,
     "metadata": {},
     "output_type": "execute_result"
    }
   ],
   "source": [
    "sokers[1:]"
   ]
  },
  {
   "cell_type": "code",
   "execution_count": 60,
   "id": "48be49e9",
   "metadata": {},
   "outputs": [
    {
     "data": {
      "text/plain": [
       "5"
      ]
     },
     "execution_count": 60,
     "metadata": {},
     "output_type": "execute_result"
    }
   ],
   "source": [
    "len(List)"
   ]
  },
  {
   "cell_type": "code",
   "execution_count": 61,
   "id": "e554df36",
   "metadata": {},
   "outputs": [
    {
     "data": {
      "text/plain": [
       "list"
      ]
     },
     "execution_count": 61,
     "metadata": {},
     "output_type": "execute_result"
    }
   ],
   "source": [
    "type(List)"
   ]
  },
  {
   "cell_type": "code",
   "execution_count": 62,
   "id": "59f611d3",
   "metadata": {},
   "outputs": [
    {
     "data": {
      "text/plain": [
       "'vasanth'"
      ]
     },
     "execution_count": 62,
     "metadata": {},
     "output_type": "execute_result"
    }
   ],
   "source": [
    "sokers[0]"
   ]
  },
  {
   "cell_type": "code",
   "execution_count": 100,
   "id": "734696fe",
   "metadata": {},
   "outputs": [],
   "source": [
    "sokers.extend([45])"
   ]
  },
  {
   "cell_type": "code",
   "execution_count": 64,
   "id": "e3c6914a",
   "metadata": {},
   "outputs": [
    {
     "data": {
      "text/plain": [
       "['vasanth', 'jegatheesh', 'sharif', 45]"
      ]
     },
     "execution_count": 64,
     "metadata": {},
     "output_type": "execute_result"
    }
   ],
   "source": [
    "sokers"
   ]
  },
  {
   "cell_type": "code",
   "execution_count": 65,
   "id": "9dc81af9",
   "metadata": {},
   "outputs": [
    {
     "data": {
      "text/plain": [
       "'vasanth'"
      ]
     },
     "execution_count": 65,
     "metadata": {},
     "output_type": "execute_result"
    }
   ],
   "source": [
    "sokers[0]"
   ]
  },
  {
   "cell_type": "code",
   "execution_count": 66,
   "id": "f82d72f5",
   "metadata": {},
   "outputs": [
    {
     "data": {
      "text/plain": [
       "45"
      ]
     },
     "execution_count": 66,
     "metadata": {},
     "output_type": "execute_result"
    }
   ],
   "source": [
    "sokers[-1]"
   ]
  },
  {
   "cell_type": "code",
   "execution_count": 67,
   "id": "74bacd5c",
   "metadata": {},
   "outputs": [
    {
     "data": {
      "text/plain": [
       "'sharif'"
      ]
     },
     "execution_count": 67,
     "metadata": {},
     "output_type": "execute_result"
    }
   ],
   "source": [
    "sokers[-2]"
   ]
  },
  {
   "cell_type": "code",
   "execution_count": 68,
   "id": "b9f1632d",
   "metadata": {},
   "outputs": [
    {
     "data": {
      "text/plain": [
       "'jegatheesh'"
      ]
     },
     "execution_count": 68,
     "metadata": {},
     "output_type": "execute_result"
    }
   ],
   "source": [
    "sokers[-3]"
   ]
  },
  {
   "cell_type": "code",
   "execution_count": 99,
   "id": "df666164",
   "metadata": {},
   "outputs": [],
   "source": [
    "sokers.insert(2,\"sudharsan\")"
   ]
  },
  {
   "cell_type": "code",
   "execution_count": 71,
   "id": "dc07b080",
   "metadata": {},
   "outputs": [
    {
     "data": {
      "text/plain": [
       "['vasanth', 'jegatheesh', 'sudharsan', 'sharif', 45]"
      ]
     },
     "execution_count": 71,
     "metadata": {},
     "output_type": "execute_result"
    }
   ],
   "source": [
    "sokers"
   ]
  },
  {
   "cell_type": "code",
   "execution_count": 98,
   "id": "588287af",
   "metadata": {},
   "outputs": [],
   "source": [
    "sokers.append(3.45)"
   ]
  },
  {
   "cell_type": "code",
   "execution_count": 73,
   "id": "f6629ee5",
   "metadata": {},
   "outputs": [
    {
     "data": {
      "text/plain": [
       "['vasanth', 'jegatheesh', 'sudharsan', 'sharif', 45, 3.45]"
      ]
     },
     "execution_count": 73,
     "metadata": {},
     "output_type": "execute_result"
    }
   ],
   "source": [
    "sokers"
   ]
  },
  {
   "cell_type": "code",
   "execution_count": 75,
   "id": "860bb759",
   "metadata": {},
   "outputs": [],
   "source": [
    "sokers.remove(\"jegatheesh\")"
   ]
  },
  {
   "cell_type": "code",
   "execution_count": 76,
   "id": "d3d13f45",
   "metadata": {},
   "outputs": [
    {
     "data": {
      "text/plain": [
       "['vasanth', 'sudharsan', 'sharif', 45, 3.45]"
      ]
     },
     "execution_count": 76,
     "metadata": {},
     "output_type": "execute_result"
    }
   ],
   "source": [
    "sokers"
   ]
  },
  {
   "cell_type": "code",
   "execution_count": 77,
   "id": "a5434798",
   "metadata": {},
   "outputs": [
    {
     "data": {
      "text/plain": [
       "'sharif'"
      ]
     },
     "execution_count": 77,
     "metadata": {},
     "output_type": "execute_result"
    }
   ],
   "source": [
    "sokers.pop(2)"
   ]
  },
  {
   "cell_type": "code",
   "execution_count": 78,
   "id": "753c1f7b",
   "metadata": {},
   "outputs": [
    {
     "data": {
      "text/plain": [
       "['vasanth', 'sudharsan', 45, 3.45]"
      ]
     },
     "execution_count": 78,
     "metadata": {},
     "output_type": "execute_result"
    }
   ],
   "source": [
    "sokers"
   ]
  },
  {
   "cell_type": "code",
   "execution_count": 79,
   "id": "b1317d9b",
   "metadata": {},
   "outputs": [],
   "source": [
    "del sokers[1]"
   ]
  },
  {
   "cell_type": "code",
   "execution_count": 80,
   "id": "4a4dad38",
   "metadata": {},
   "outputs": [
    {
     "data": {
      "text/plain": [
       "['vasanth', 45, 3.45]"
      ]
     },
     "execution_count": 80,
     "metadata": {},
     "output_type": "execute_result"
    }
   ],
   "source": [
    "sokers"
   ]
  },
  {
   "cell_type": "code",
   "execution_count": 81,
   "id": "828d3ce7",
   "metadata": {},
   "outputs": [],
   "source": [
    "del a[2]"
   ]
  },
  {
   "cell_type": "code",
   "execution_count": 82,
   "id": "cc719a8d",
   "metadata": {},
   "outputs": [
    {
     "data": {
      "text/plain": [
       "array('i', [9, 8, 6, 5, 4, 3, 2, 1])"
      ]
     },
     "execution_count": 82,
     "metadata": {},
     "output_type": "execute_result"
    }
   ],
   "source": [
    "a"
   ]
  },
  {
   "cell_type": "code",
   "execution_count": 83,
   "id": "76451de4",
   "metadata": {},
   "outputs": [],
   "source": [
    "sokers.remove(45)"
   ]
  },
  {
   "cell_type": "code",
   "execution_count": 84,
   "id": "fcf250ae",
   "metadata": {},
   "outputs": [
    {
     "data": {
      "text/plain": [
       "['vasanth', 3.45]"
      ]
     },
     "execution_count": 84,
     "metadata": {},
     "output_type": "execute_result"
    }
   ],
   "source": [
    "sokers"
   ]
  },
  {
   "cell_type": "code",
   "execution_count": 85,
   "id": "11625b32",
   "metadata": {},
   "outputs": [],
   "source": [
    "sokers.extend([\"jegatheesh\",45,3.45,\"sudharsan\"])"
   ]
  },
  {
   "cell_type": "code",
   "execution_count": 86,
   "id": "61e8ef6d",
   "metadata": {},
   "outputs": [
    {
     "data": {
      "text/plain": [
       "['vasanth', 3.45, 'jegatheesh', 45, 3.45, 'sudharsan']"
      ]
     },
     "execution_count": 86,
     "metadata": {},
     "output_type": "execute_result"
    }
   ],
   "source": [
    "sokers"
   ]
  },
  {
   "cell_type": "code",
   "execution_count": 88,
   "id": "feb3deaf",
   "metadata": {},
   "outputs": [],
   "source": [
    "del sokers[1]"
   ]
  },
  {
   "cell_type": "code",
   "execution_count": 89,
   "id": "dd956f9c",
   "metadata": {},
   "outputs": [
    {
     "data": {
      "text/plain": [
       "['vasanth', 'jegatheesh', 45, 3.45, 'sudharsan']"
      ]
     },
     "execution_count": 89,
     "metadata": {},
     "output_type": "execute_result"
    }
   ],
   "source": [
    "sokers"
   ]
  },
  {
   "cell_type": "code",
   "execution_count": 94,
   "id": "5928bc3b",
   "metadata": {},
   "outputs": [
    {
     "data": {
      "text/plain": [
       "'jegatheesh'"
      ]
     },
     "execution_count": 94,
     "metadata": {},
     "output_type": "execute_result"
    }
   ],
   "source": [
    "sokers.pop(1)"
   ]
  },
  {
   "cell_type": "code",
   "execution_count": 95,
   "id": "f9abf257",
   "metadata": {},
   "outputs": [
    {
     "data": {
      "text/plain": [
       "['vasanth', 45, 3.45]"
      ]
     },
     "execution_count": 95,
     "metadata": {},
     "output_type": "execute_result"
    }
   ],
   "source": [
    "sokers"
   ]
  },
  {
   "cell_type": "code",
   "execution_count": 96,
   "id": "61e5a5a7",
   "metadata": {},
   "outputs": [
    {
     "data": {
      "text/plain": [
       "45"
      ]
     },
     "execution_count": 96,
     "metadata": {},
     "output_type": "execute_result"
    }
   ],
   "source": [
    "sokers.pop(1)"
   ]
  },
  {
   "cell_type": "raw",
   "id": "be88eaf9",
   "metadata": {},
   "source": [
    "sokers"
   ]
  },
  {
   "cell_type": "code",
   "execution_count": 101,
   "id": "de037cb6",
   "metadata": {},
   "outputs": [
    {
     "data": {
      "text/plain": [
       "['vasanth', 3.45, 'sudharsan', 3.45, 45]"
      ]
     },
     "execution_count": 101,
     "metadata": {},
     "output_type": "execute_result"
    }
   ],
   "source": [
    "sokers"
   ]
  },
  {
   "cell_type": "code",
   "execution_count": 102,
   "id": "dc0e184e",
   "metadata": {},
   "outputs": [],
   "source": [
    "a=sokers.copy()"
   ]
  },
  {
   "cell_type": "code",
   "execution_count": 103,
   "id": "13b84194",
   "metadata": {},
   "outputs": [
    {
     "data": {
      "text/plain": [
       "['vasanth', 3.45, 'sudharsan', 3.45, 45]"
      ]
     },
     "execution_count": 103,
     "metadata": {},
     "output_type": "execute_result"
    }
   ],
   "source": [
    "a"
   ]
  },
  {
   "cell_type": "code",
   "execution_count": 104,
   "id": "d2234ceb",
   "metadata": {},
   "outputs": [
    {
     "data": {
      "text/plain": [
       "['vasanth', 3.45, 'sudharsan', 3.45, 45]"
      ]
     },
     "execution_count": 104,
     "metadata": {},
     "output_type": "execute_result"
    }
   ],
   "source": [
    "sokers"
   ]
  },
  {
   "cell_type": "code",
   "execution_count": 105,
   "id": "1ac0141f",
   "metadata": {},
   "outputs": [
    {
     "data": {
      "text/plain": [
       "['vasanth', 3.45, 'sudharsan', 3.45, 45]"
      ]
     },
     "execution_count": 105,
     "metadata": {},
     "output_type": "execute_result"
    }
   ],
   "source": [
    "a"
   ]
  },
  {
   "cell_type": "code",
   "execution_count": 106,
   "id": "d1f4e09e",
   "metadata": {},
   "outputs": [],
   "source": [
    "b=a+sokers"
   ]
  },
  {
   "cell_type": "code",
   "execution_count": 107,
   "id": "30400ba0",
   "metadata": {},
   "outputs": [
    {
     "name": "stdout",
     "output_type": "stream",
     "text": [
      "['vasanth', 3.45, 'sudharsan', 3.45, 45, 'vasanth', 3.45, 'sudharsan', 3.45, 45]\n"
     ]
    }
   ],
   "source": [
    "print(b)"
   ]
  },
  {
   "cell_type": "code",
   "execution_count": 108,
   "id": "51e19e7a",
   "metadata": {},
   "outputs": [
    {
     "data": {
      "text/plain": [
       "'sudharsan'"
      ]
     },
     "execution_count": 108,
     "metadata": {},
     "output_type": "execute_result"
    }
   ],
   "source": [
    "b[2]"
   ]
  },
  {
   "cell_type": "code",
   "execution_count": 109,
   "id": "74eea63d",
   "metadata": {},
   "outputs": [
    {
     "data": {
      "text/plain": [
       "'sudharsan'"
      ]
     },
     "execution_count": 109,
     "metadata": {},
     "output_type": "execute_result"
    }
   ],
   "source": [
    "b[7]"
   ]
  },
  {
   "cell_type": "markdown",
   "id": "d42d973c",
   "metadata": {},
   "source": [
    "# Tupleb"
   ]
  },
  {
   "cell_type": "markdown",
   "id": "bcfba2d1",
   "metadata": {},
   "source": []
  },
  {
   "cell_type": "code",
   "execution_count": 110,
   "id": "a4ebce5a",
   "metadata": {},
   "outputs": [],
   "source": [
    "name=(\"jegatheesh\",4,3,\"vasanth\",\"sharif\",4j)#tuble is immutable so cannot be use the above operationsdssssssssssssssssssssss insert,extend,append "
   ]
  },
  {
   "cell_type": "markdown",
   "id": "f1ea2fe6",
   "metadata": {},
   "source": [
    "name"
   ]
  },
  {
   "cell_type": "markdown",
   "id": "ceedb22a",
   "metadata": {},
   "source": []
  },
  {
   "cell_type": "code",
   "execution_count": 111,
   "id": "206508aa",
   "metadata": {},
   "outputs": [
    {
     "data": {
      "text/plain": [
       "('jegatheesh', 4, 3, 'vasanth', 'sharif', 4j)"
      ]
     },
     "execution_count": 111,
     "metadata": {},
     "output_type": "execute_result"
    }
   ],
   "source": [
    "name"
   ]
  },
  {
   "cell_type": "code",
   "execution_count": 112,
   "id": "69f59570",
   "metadata": {},
   "outputs": [
    {
     "data": {
      "text/plain": [
       "tuple"
      ]
     },
     "execution_count": 112,
     "metadata": {},
     "output_type": "execute_result"
    }
   ],
   "source": [
    "type(name)"
   ]
  },
  {
   "cell_type": "code",
   "execution_count": 113,
   "id": "51a7eaad",
   "metadata": {},
   "outputs": [
    {
     "data": {
      "text/plain": [
       "6"
      ]
     },
     "execution_count": 113,
     "metadata": {},
     "output_type": "execute_result"
    }
   ],
   "source": [
    "len(name)"
   ]
  },
  {
   "cell_type": "code",
   "execution_count": 114,
   "id": "9ba621e5",
   "metadata": {},
   "outputs": [
    {
     "ename": "AttributeError",
     "evalue": "'tuple' object has no attribute 'append'",
     "output_type": "error",
     "traceback": [
      "\u001b[1;31m---------------------------------------------------------------------------\u001b[0m",
      "\u001b[1;31mAttributeError\u001b[0m                            Traceback (most recent call last)",
      "\u001b[1;32m~\\AppData\\Local\\Temp\\ipykernel_12172\\238322627.py\u001b[0m in \u001b[0;36m<module>\u001b[1;34m\u001b[0m\n\u001b[1;32m----> 1\u001b[1;33m \u001b[0mname\u001b[0m\u001b[1;33m.\u001b[0m\u001b[0mappend\u001b[0m\u001b[1;33m(\u001b[0m\u001b[1;36m45\u001b[0m\u001b[1;33m)\u001b[0m\u001b[1;33m\u001b[0m\u001b[1;33m\u001b[0m\u001b[0m\n\u001b[0m",
      "\u001b[1;31mAttributeError\u001b[0m: 'tuple' object has no attribute 'append'"
     ]
    }
   ],
   "source": [
    "name.append(45)"
   ]
  },
  {
   "cell_type": "code",
   "execution_count": 115,
   "id": "3d021e7b",
   "metadata": {},
   "outputs": [
    {
     "ename": "AttributeError",
     "evalue": "'tuple' object has no attribute 'extend'",
     "output_type": "error",
     "traceback": [
      "\u001b[1;31m---------------------------------------------------------------------------\u001b[0m",
      "\u001b[1;31mAttributeError\u001b[0m                            Traceback (most recent call last)",
      "\u001b[1;32m~\\AppData\\Local\\Temp\\ipykernel_12172\\3651415475.py\u001b[0m in \u001b[0;36m<module>\u001b[1;34m\u001b[0m\n\u001b[1;32m----> 1\u001b[1;33m \u001b[0mname\u001b[0m\u001b[1;33m.\u001b[0m\u001b[0mextend\u001b[0m\u001b[1;33m(\u001b[0m\u001b[1;33m[\u001b[0m\u001b[1;36m4\u001b[0m\u001b[1;33m,\u001b[0m\u001b[1;36m5\u001b[0m\u001b[1;33m,\u001b[0m\u001b[1;36m6\u001b[0m\u001b[1;33m]\u001b[0m\u001b[1;33m)\u001b[0m\u001b[1;33m\u001b[0m\u001b[1;33m\u001b[0m\u001b[0m\n\u001b[0m",
      "\u001b[1;31mAttributeError\u001b[0m: 'tuple' object has no attribute 'extend'"
     ]
    }
   ],
   "source": [
    "name.extend([4,5,6])"
   ]
  },
  {
   "cell_type": "code",
   "execution_count": 116,
   "id": "6b7271e8",
   "metadata": {},
   "outputs": [
    {
     "ename": "AttributeError",
     "evalue": "'tuple' object has no attribute 'insert'",
     "output_type": "error",
     "traceback": [
      "\u001b[1;31m---------------------------------------------------------------------------\u001b[0m",
      "\u001b[1;31mAttributeError\u001b[0m                            Traceback (most recent call last)",
      "\u001b[1;32m~\\AppData\\Local\\Temp\\ipykernel_12172\\295871391.py\u001b[0m in \u001b[0;36m<module>\u001b[1;34m\u001b[0m\n\u001b[1;32m----> 1\u001b[1;33m \u001b[0mname\u001b[0m\u001b[1;33m.\u001b[0m\u001b[0minsert\u001b[0m\u001b[1;33m(\u001b[0m\u001b[1;36m2\u001b[0m\u001b[1;33m,\u001b[0m\u001b[1;36m54\u001b[0m\u001b[1;33m)\u001b[0m\u001b[1;33m\u001b[0m\u001b[1;33m\u001b[0m\u001b[0m\n\u001b[0m",
      "\u001b[1;31mAttributeError\u001b[0m: 'tuple' object has no attribute 'insert'"
     ]
    }
   ],
   "source": [
    "name.insert(2,54)3"
   ]
  },
  {
   "cell_type": "code",
   "execution_count": 117,
   "id": "f203d931",
   "metadata": {},
   "outputs": [
    {
     "ename": "AttributeError",
     "evalue": "'tuple' object has no attribute 'pop'",
     "output_type": "error",
     "traceback": [
      "\u001b[1;31m---------------------------------------------------------------------------\u001b[0m",
      "\u001b[1;31mAttributeError\u001b[0m                            Traceback (most recent call last)",
      "\u001b[1;32m~\\AppData\\Local\\Temp\\ipykernel_12172\\3869249552.py\u001b[0m in \u001b[0;36m<module>\u001b[1;34m\u001b[0m\n\u001b[1;32m----> 1\u001b[1;33m \u001b[0mname\u001b[0m\u001b[1;33m.\u001b[0m\u001b[0mpop\u001b[0m\u001b[1;33m(\u001b[0m\u001b[1;36m3\u001b[0m\u001b[1;33m)\u001b[0m\u001b[1;33m\u001b[0m\u001b[1;33m\u001b[0m\u001b[0m\n\u001b[0m",
      "\u001b[1;31mAttributeError\u001b[0m: 'tuple' object has no attribute 'pop'"
     ]
    }
   ],
   "source": [
    "name.pop(3)"
   ]
  },
  {
   "cell_type": "code",
   "execution_count": 118,
   "id": "28099fb1",
   "metadata": {},
   "outputs": [
    {
     "ename": "TypeError",
     "evalue": "'tuple' object doesn't support item deletion",
     "output_type": "error",
     "traceback": [
      "\u001b[1;31m---------------------------------------------------------------------------\u001b[0m",
      "\u001b[1;31mTypeError\u001b[0m                                 Traceback (most recent call last)",
      "\u001b[1;32m~\\AppData\\Local\\Temp\\ipykernel_12172\\145911617.py\u001b[0m in \u001b[0;36m<module>\u001b[1;34m\u001b[0m\n\u001b[1;32m----> 1\u001b[1;33m \u001b[1;32mdel\u001b[0m \u001b[0mname\u001b[0m\u001b[1;33m[\u001b[0m\u001b[1;36m2\u001b[0m\u001b[1;33m]\u001b[0m\u001b[1;33m\u001b[0m\u001b[1;33m\u001b[0m\u001b[0m\n\u001b[0m",
      "\u001b[1;31mTypeError\u001b[0m: 'tuple' object doesn't support item deletion"
     ]
    }
   ],
   "source": [
    "del name[2]"
   ]
  },
  {
   "cell_type": "code",
   "execution_count": 119,
   "id": "4e43793b",
   "metadata": {},
   "outputs": [
    {
     "data": {
      "text/plain": [
       "1"
      ]
     },
     "execution_count": 119,
     "metadata": {},
     "output_type": "execute_result"
    }
   ],
   "source": [
    "name.count(3)"
   ]
  },
  {
   "cell_type": "markdown",
   "id": "92bafe78",
   "metadata": {},
   "source": [
    "# string"
   ]
  },
  {
   "cell_type": "code",
   "execution_count": 121,
   "id": "d63ec913",
   "metadata": {},
   "outputs": [],
   "source": [
    "company_name=\"jegatheesh\" #immutable"
   ]
  },
  {
   "cell_type": "code",
   "execution_count": 122,
   "id": "42d41cc1",
   "metadata": {},
   "outputs": [
    {
     "data": {
      "text/plain": [
       "10"
      ]
     },
     "execution_count": 122,
     "metadata": {},
     "output_type": "execute_result"
    }
   ],
   "source": [
    "len(company_name)"
   ]
  },
  {
   "cell_type": "code",
   "execution_count": 124,
   "id": "34bb39a8",
   "metadata": {},
   "outputs": [
    {
     "data": {
      "text/plain": [
       "['vasanth', 3.45, 'sudharsan', 3.45, 45]"
      ]
     },
     "execution_count": 124,
     "metadata": {},
     "output_type": "execute_result"
    }
   ],
   "source": [
    "a"
   ]
  },
  {
   "cell_type": "code",
   "execution_count": 126,
   "id": "f5a5416f",
   "metadata": {},
   "outputs": [
    {
     "data": {
      "text/plain": [
       "'heesh'"
      ]
     },
     "execution_count": 126,
     "metadata": {},
     "output_type": "execute_result"
    }
   ],
   "source": [
    "company_name[5:]"
   ]
  },
  {
   "cell_type": "code",
   "execution_count": 128,
   "id": "53953798",
   "metadata": {},
   "outputs": [
    {
     "data": {
      "text/plain": [
       "'jgtes'"
      ]
     },
     "execution_count": 128,
     "metadata": {},
     "output_type": "execute_result"
    }
   ],
   "source": [
    "company_name[::2]"
   ]
  },
  {
   "cell_type": "code",
   "execution_count": 131,
   "id": "ae1ad4ae",
   "metadata": {},
   "outputs": [
    {
     "data": {
      "text/plain": [
       "'gatheesh'"
      ]
     },
     "execution_count": 131,
     "metadata": {},
     "output_type": "execute_result"
    }
   ],
   "source": [
    "company_name[2:]"
   ]
  },
  {
   "cell_type": "markdown",
   "id": "48c9ef3d",
   "metadata": {},
   "source": [
    "\n",
    "# set"
   ]
  },
  {
   "cell_type": "markdown",
   "id": "58a189be",
   "metadata": {},
   "source": []
  },
  {
   "cell_type": "code",
   "execution_count": 134,
   "id": "1422b8d7",
   "metadata": {},
   "outputs": [],
   "source": [
    "name={\"jegatheesh\",45,\"vasanth\",3.45,\"sharif\"}#use curly brackr to "
   ]
  },
  {
   "cell_type": "code",
   "execution_count": 135,
   "id": "7bafb178",
   "metadata": {},
   "outputs": [
    {
     "data": {
      "text/plain": [
       "set"
      ]
     },
     "execution_count": 135,
     "metadata": {},
     "output_type": "execute_result"
    }
   ],
   "source": [
    "type(name)"
   ]
  },
  {
   "cell_type": "code",
   "execution_count": 136,
   "id": "a05f5d4c",
   "metadata": {},
   "outputs": [
    {
     "data": {
      "text/plain": [
       "5"
      ]
     },
     "execution_count": 136,
     "metadata": {},
     "output_type": "execute_result"
    }
   ],
   "source": [
    "len(name)"
   ]
  },
  {
   "cell_type": "code",
   "execution_count": 140,
   "id": "e1cf76c2",
   "metadata": {},
   "outputs": [],
   "source": [
    "name.add(\"jega\")"
   ]
  },
  {
   "cell_type": "code",
   "execution_count": 141,
   "id": "845f26ec",
   "metadata": {},
   "outputs": [
    {
     "data": {
      "text/plain": [
       "{3.45, 45, 'jega', 'jegatheesh', 'sharif', 'vasanth'}"
      ]
     },
     "execution_count": 141,
     "metadata": {},
     "output_type": "execute_result"
    }
   ],
   "source": [
    "name"
   ]
  },
  {
   "cell_type": "code",
   "execution_count": 143,
   "id": "af96c1c7",
   "metadata": {},
   "outputs": [],
   "source": [
    "name.update({\"jegan\",\"nandha\"})"
   ]
  },
  {
   "cell_type": "markdown",
   "id": "7ddc1a28",
   "metadata": {},
   "source": []
  },
  {
   "cell_type": "code",
   "execution_count": 144,
   "id": "c3daf2e6",
   "metadata": {},
   "outputs": [
    {
     "data": {
      "text/plain": [
       "{3.45, 45, 'jega', 'jegan', 'jegatheesh', 'nandha', 'sharif', 'vasanth'}"
      ]
     },
     "execution_count": 144,
     "metadata": {},
     "output_type": "execute_result"
    }
   ],
   "source": [
    "name"
   ]
  },
  {
   "cell_type": "code",
   "execution_count": 145,
   "id": "05e4e726",
   "metadata": {},
   "outputs": [
    {
     "data": {
      "text/plain": [
       "'jegan'"
      ]
     },
     "execution_count": 145,
     "metadata": {},
     "output_type": "execute_result"
    }
   ],
   "source": [
    "name.pop()"
   ]
  },
  {
   "cell_type": "code",
   "execution_count": 146,
   "id": "15329dbc",
   "metadata": {},
   "outputs": [
    {
     "data": {
      "text/plain": [
       "{3.45, 45, 'jega', 'jegatheesh', 'nandha', 'sharif', 'vasanth'}"
      ]
     },
     "execution_count": 146,
     "metadata": {},
     "output_type": "execute_result"
    }
   ],
   "source": [
    "name"
   ]
  },
  {
   "cell_type": "code",
   "execution_count": 149,
   "id": "44276649",
   "metadata": {},
   "outputs": [],
   "source": [
    "name.remove(45)"
   ]
  },
  {
   "cell_type": "markdown",
   "id": "fff5d1e9",
   "metadata": {},
   "source": []
  },
  {
   "cell_type": "code",
   "execution_count": 150,
   "id": "e1485c3f",
   "metadata": {},
   "outputs": [
    {
     "data": {
      "text/plain": [
       "{3.45, 'jega', 'jegatheesh', 'nandha', 'sharif', 'vasanth'}"
      ]
     },
     "execution_count": 150,
     "metadata": {},
     "output_type": "execute_result"
    }
   ],
   "source": [
    "name"
   ]
  },
  {
   "cell_type": "code",
   "execution_count": null,
   "id": "677d9a63",
   "metadata": {},
   "outputs": [],
   "source": [
    "d"
   ]
  }
 ],
 "metadata": {
  "kernelspec": {
   "display_name": "Python 3 (ipykernel)",
   "language": "python",
   "name": "python3"
  },
  "language_info": {
   "codemirror_mode": {
    "name": "ipython",
    "version": 3
   },
   "file_extension": ".py",
   "mimetype": "text/x-python",
   "name": "python",
   "nbconvert_exporter": "python",
   "pygments_lexer": "ipython3",
   "version": "3.9.13"
  }
 },
 "nbformat": 4,
 "nbformat_minor": 5
}
